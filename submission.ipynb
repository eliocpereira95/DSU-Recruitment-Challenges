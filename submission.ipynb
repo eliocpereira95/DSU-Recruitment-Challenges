{
 "cells": [
  {
   "cell_type": "markdown",
   "metadata": {},
   "source": [
    "# Xpand IT DS Challenge"
   ]
  },
  {
   "cell_type": "markdown",
   "metadata": {},
   "source": [
    "## Configuration"
   ]
  },
  {
   "cell_type": "markdown",
   "metadata": {},
   "source": [
    "### Import Packages"
   ]
  },
  {
   "cell_type": "code",
   "execution_count": 1,
   "metadata": {},
   "outputs": [],
   "source": [
    "import numpy as np\n",
    "import pandas as pd\n",
    "import matplotlib.pyplot as plt\n",
    "import seaborn as sns"
   ]
  },
  {
   "cell_type": "markdown",
   "metadata": {},
   "source": [
    "### Configure pyplot and seaborn"
   ]
  },
  {
   "cell_type": "code",
   "execution_count": 2,
   "metadata": {},
   "outputs": [],
   "source": [
    "# If set, put axes ticks and the gridlines below the plots\n",
    "plt.rc(\"axes\", axisbelow=True)\n",
    "\n",
    "# [NOTE: seaborn uses matplotlib's rc (runtime configuration) and, therefore, there is\n",
    "# no need to configure Seaborn's rc in particular.]"
   ]
  },
  {
   "cell_type": "markdown",
   "metadata": {},
   "source": [
    "### Define a DataFrame Styling Function"
   ]
  },
  {
   "cell_type": "code",
   "execution_count": 3,
   "metadata": {},
   "outputs": [],
   "source": [
    "def style_df(df, caption=\"\"):\n",
    "    return (df.style\n",
    "        .set_caption(caption)\n",
    "        .set_table_styles([\n",
    "            {\n",
    "                \"selector\": \"caption\",\n",
    "                \"props\": [\n",
    "                    (\"width\", \"100%\"),\n",
    "                    (\"font-size\", \"16px\"),\n",
    "                    (\"font-weight\", \"bold\"),\n",
    "                    (\"font-style\", \"italic\"),\n",
    "                    (\"text-align\", \"left\"),\n",
    "                    (\"padding-top\", \"15pt\"),\n",
    "                    (\"padding-bottom\", \"5pt\"),\n",
    "                    (\"padding-left\", \"15pt\"),\n",
    "                ]\n",
    "            },\n",
    "            {\n",
    "                \"selector\": \"td\",\n",
    "                \"props\": [\n",
    "                    (\"padding-bottom\", \"10pt\"),\n",
    "                    ] \n",
    "            }\n",
    "        ])\n",
    "    )"
   ]
  },
  {
   "cell_type": "markdown",
   "metadata": {},
   "source": [
    "## Business Analysis\n",
    "\n",
    "### What is the Dow Jones Index?\n",
    "The Dow Jones Index, also called **Dow Jones Industrial Average**, is a stock market index that rates the combination of $30$ prominent companies of the United States of America. It is based on the values of the stock shares of each of these $30$ companies. Its computation formula corresponds to\n",
    "\n",
    "$$\n",
    "\\mathrm{DJIA} = \\frac{\\sum_{i} p_i}{d}\\text{ ,}\n",
    "$$\n",
    "\n",
    "where $p_i$ is the price of a single stock share of the $i$-th company and $d$ is the so-called **Dow Divisor**. This divisor is adjusted in case of stock splits, spinoffs or similar structural changes. On [$26^{\\mathrm{th}}$ of February of $2024$](https://en.wikipedia.org/wiki/Dow_Jones_Industrial_Average#Computation), its value corresponded to $0.15221633137872$.\n",
    "\n",
    "The list of $30$ companies accounted by the index may actually change as these cease to be prominent, underperforming when compared to those companies \"below\" them. As of February of $26^{\\mathrm{th}}$ of February of $2024$, the list has changed $58$ times. To ensure that the Dow Jones Index remains continuous in face of such change the Dow Divisor $d$ is updated accordingly.\n",
    "\n",
    "### How does the issued data compares with the Dow Jones Index?\n",
    "\n",
    "The issued data does not correspond to the Dow Jones Index, but contains all the necessary data for computing it except the Dow Divisor (although out-of-the-scope for this project, and no table has been found, the present author believes that a more thorough search could be successful in retrieving Dow Divisor's historic values). The data is comprised by the stock share values of the $30$ prominent companies at the different weeks of the first two quarters of $2011$, plus some additional and useful info, such as **volume of exchanged  shares**, and **dividend yields**. \n",
    "\n",
    "* The **volume of exchanged shares** may describe the liquidity of the market (high values would make buying or selling shares to not significantly affect the stock's price), the stock price \"momentum\" (spikes in exchanged volume might start new trends) as well as the investor \"sentiment\" (high values indicate high interest and confidence in the stock);\n",
    "\n",
    "* Companies may pay at certain times an amount to a shareholder based on the amount of shares held and a stipulated factor: the **dividend yield**. This corresponds to the ratio between the value of the dividend payment per stock share and the value of that same stock share. High values are usually associated with a high profitability and management confidence of the company, promoting further reinvestment by the shareholders, which could then increase the stock value.\n",
    "\n",
    "[***NOTE:*** if the so-called ex-dividend dates were issued together with the data, one could have actually considered the dividend return to be part of the profit of the investor in the current problem. Since they were not, the computed profit was solely based on the relative change of the stock prices.]\n",
    "\n",
    "All of these data are important for building a model that could reliably predict the evolution of the stock prices."
   ]
  },
  {
   "cell_type": "markdown",
   "metadata": {},
   "source": [
    "## Data Understanding"
   ]
  },
  {
   "cell_type": "markdown",
   "metadata": {},
   "source": [
    "### Import the data"
   ]
  },
  {
   "cell_type": "code",
   "execution_count": 4,
   "metadata": {},
   "outputs": [
    {
     "data": {
      "text/html": [
       "<style type=\"text/css\">\n",
       "#T_b73fe caption {\n",
       "  width: 100%;\n",
       "  font-size: 16px;\n",
       "  font-weight: bold;\n",
       "  font-style: italic;\n",
       "  text-align: left;\n",
       "  padding-top: 15pt;\n",
       "  padding-bottom: 5pt;\n",
       "  padding-left: 15pt;\n",
       "}\n",
       "#T_b73fe td {\n",
       "  padding-bottom: 10pt;\n",
       "}\n",
       "</style>\n",
       "<table id=\"T_b73fe\">\n",
       "  <caption>Raw data</caption>\n",
       "  <thead>\n",
       "    <tr>\n",
       "      <th class=\"blank level0\" >&nbsp;</th>\n",
       "      <th id=\"T_b73fe_level0_col0\" class=\"col_heading level0 col0\" >quarter</th>\n",
       "      <th id=\"T_b73fe_level0_col1\" class=\"col_heading level0 col1\" >stock</th>\n",
       "      <th id=\"T_b73fe_level0_col2\" class=\"col_heading level0 col2\" >date</th>\n",
       "      <th id=\"T_b73fe_level0_col3\" class=\"col_heading level0 col3\" >open</th>\n",
       "      <th id=\"T_b73fe_level0_col4\" class=\"col_heading level0 col4\" >high</th>\n",
       "      <th id=\"T_b73fe_level0_col5\" class=\"col_heading level0 col5\" >low</th>\n",
       "      <th id=\"T_b73fe_level0_col6\" class=\"col_heading level0 col6\" >close</th>\n",
       "      <th id=\"T_b73fe_level0_col7\" class=\"col_heading level0 col7\" >volume</th>\n",
       "      <th id=\"T_b73fe_level0_col8\" class=\"col_heading level0 col8\" >percent_change_price</th>\n",
       "      <th id=\"T_b73fe_level0_col9\" class=\"col_heading level0 col9\" >percent_change_volume_over_last_wk</th>\n",
       "      <th id=\"T_b73fe_level0_col10\" class=\"col_heading level0 col10\" >previous_weeks_volume</th>\n",
       "      <th id=\"T_b73fe_level0_col11\" class=\"col_heading level0 col11\" >next_weeks_open</th>\n",
       "      <th id=\"T_b73fe_level0_col12\" class=\"col_heading level0 col12\" >next_weeks_close</th>\n",
       "      <th id=\"T_b73fe_level0_col13\" class=\"col_heading level0 col13\" >percent_change_next_weeks_price</th>\n",
       "      <th id=\"T_b73fe_level0_col14\" class=\"col_heading level0 col14\" >days_to_next_dividend</th>\n",
       "      <th id=\"T_b73fe_level0_col15\" class=\"col_heading level0 col15\" >percent_return_next_dividend</th>\n",
       "    </tr>\n",
       "  </thead>\n",
       "  <tbody>\n",
       "    <tr>\n",
       "      <th id=\"T_b73fe_level0_row0\" class=\"row_heading level0 row0\" >0</th>\n",
       "      <td id=\"T_b73fe_row0_col0\" class=\"data row0 col0\" >1</td>\n",
       "      <td id=\"T_b73fe_row0_col1\" class=\"data row0 col1\" >AA</td>\n",
       "      <td id=\"T_b73fe_row0_col2\" class=\"data row0 col2\" >1/7/2011</td>\n",
       "      <td id=\"T_b73fe_row0_col3\" class=\"data row0 col3\" >$15.82</td>\n",
       "      <td id=\"T_b73fe_row0_col4\" class=\"data row0 col4\" >$16.72</td>\n",
       "      <td id=\"T_b73fe_row0_col5\" class=\"data row0 col5\" >$15.78</td>\n",
       "      <td id=\"T_b73fe_row0_col6\" class=\"data row0 col6\" >$16.42</td>\n",
       "      <td id=\"T_b73fe_row0_col7\" class=\"data row0 col7\" >239655616</td>\n",
       "      <td id=\"T_b73fe_row0_col8\" class=\"data row0 col8\" >3.792670</td>\n",
       "      <td id=\"T_b73fe_row0_col9\" class=\"data row0 col9\" >nan</td>\n",
       "      <td id=\"T_b73fe_row0_col10\" class=\"data row0 col10\" >nan</td>\n",
       "      <td id=\"T_b73fe_row0_col11\" class=\"data row0 col11\" >$16.71</td>\n",
       "      <td id=\"T_b73fe_row0_col12\" class=\"data row0 col12\" >$15.97</td>\n",
       "      <td id=\"T_b73fe_row0_col13\" class=\"data row0 col13\" >-4.428490</td>\n",
       "      <td id=\"T_b73fe_row0_col14\" class=\"data row0 col14\" >26</td>\n",
       "      <td id=\"T_b73fe_row0_col15\" class=\"data row0 col15\" >0.182704</td>\n",
       "    </tr>\n",
       "    <tr>\n",
       "      <th id=\"T_b73fe_level0_row1\" class=\"row_heading level0 row1\" >1</th>\n",
       "      <td id=\"T_b73fe_row1_col0\" class=\"data row1 col0\" >1</td>\n",
       "      <td id=\"T_b73fe_row1_col1\" class=\"data row1 col1\" >AA</td>\n",
       "      <td id=\"T_b73fe_row1_col2\" class=\"data row1 col2\" >1/14/2011</td>\n",
       "      <td id=\"T_b73fe_row1_col3\" class=\"data row1 col3\" >$16.71</td>\n",
       "      <td id=\"T_b73fe_row1_col4\" class=\"data row1 col4\" >$16.71</td>\n",
       "      <td id=\"T_b73fe_row1_col5\" class=\"data row1 col5\" >$15.64</td>\n",
       "      <td id=\"T_b73fe_row1_col6\" class=\"data row1 col6\" >$15.97</td>\n",
       "      <td id=\"T_b73fe_row1_col7\" class=\"data row1 col7\" >242963398</td>\n",
       "      <td id=\"T_b73fe_row1_col8\" class=\"data row1 col8\" >-4.428490</td>\n",
       "      <td id=\"T_b73fe_row1_col9\" class=\"data row1 col9\" >1.380223</td>\n",
       "      <td id=\"T_b73fe_row1_col10\" class=\"data row1 col10\" >239655616.000000</td>\n",
       "      <td id=\"T_b73fe_row1_col11\" class=\"data row1 col11\" >$16.19</td>\n",
       "      <td id=\"T_b73fe_row1_col12\" class=\"data row1 col12\" >$15.79</td>\n",
       "      <td id=\"T_b73fe_row1_col13\" class=\"data row1 col13\" >-2.470660</td>\n",
       "      <td id=\"T_b73fe_row1_col14\" class=\"data row1 col14\" >19</td>\n",
       "      <td id=\"T_b73fe_row1_col15\" class=\"data row1 col15\" >0.187852</td>\n",
       "    </tr>\n",
       "    <tr>\n",
       "      <th id=\"T_b73fe_level0_row2\" class=\"row_heading level0 row2\" >2</th>\n",
       "      <td id=\"T_b73fe_row2_col0\" class=\"data row2 col0\" >1</td>\n",
       "      <td id=\"T_b73fe_row2_col1\" class=\"data row2 col1\" >AA</td>\n",
       "      <td id=\"T_b73fe_row2_col2\" class=\"data row2 col2\" >1/21/2011</td>\n",
       "      <td id=\"T_b73fe_row2_col3\" class=\"data row2 col3\" >$16.19</td>\n",
       "      <td id=\"T_b73fe_row2_col4\" class=\"data row2 col4\" >$16.38</td>\n",
       "      <td id=\"T_b73fe_row2_col5\" class=\"data row2 col5\" >$15.60</td>\n",
       "      <td id=\"T_b73fe_row2_col6\" class=\"data row2 col6\" >$15.79</td>\n",
       "      <td id=\"T_b73fe_row2_col7\" class=\"data row2 col7\" >138428495</td>\n",
       "      <td id=\"T_b73fe_row2_col8\" class=\"data row2 col8\" >-2.470660</td>\n",
       "      <td id=\"T_b73fe_row2_col9\" class=\"data row2 col9\" >-43.024959</td>\n",
       "      <td id=\"T_b73fe_row2_col10\" class=\"data row2 col10\" >242963398.000000</td>\n",
       "      <td id=\"T_b73fe_row2_col11\" class=\"data row2 col11\" >$15.87</td>\n",
       "      <td id=\"T_b73fe_row2_col12\" class=\"data row2 col12\" >$16.13</td>\n",
       "      <td id=\"T_b73fe_row2_col13\" class=\"data row2 col13\" >1.638310</td>\n",
       "      <td id=\"T_b73fe_row2_col14\" class=\"data row2 col14\" >12</td>\n",
       "      <td id=\"T_b73fe_row2_col15\" class=\"data row2 col15\" >0.189994</td>\n",
       "    </tr>\n",
       "    <tr>\n",
       "      <th id=\"T_b73fe_level0_row3\" class=\"row_heading level0 row3\" >3</th>\n",
       "      <td id=\"T_b73fe_row3_col0\" class=\"data row3 col0\" >1</td>\n",
       "      <td id=\"T_b73fe_row3_col1\" class=\"data row3 col1\" >AA</td>\n",
       "      <td id=\"T_b73fe_row3_col2\" class=\"data row3 col2\" >1/28/2011</td>\n",
       "      <td id=\"T_b73fe_row3_col3\" class=\"data row3 col3\" >$15.87</td>\n",
       "      <td id=\"T_b73fe_row3_col4\" class=\"data row3 col4\" >$16.63</td>\n",
       "      <td id=\"T_b73fe_row3_col5\" class=\"data row3 col5\" >$15.82</td>\n",
       "      <td id=\"T_b73fe_row3_col6\" class=\"data row3 col6\" >$16.13</td>\n",
       "      <td id=\"T_b73fe_row3_col7\" class=\"data row3 col7\" >151379173</td>\n",
       "      <td id=\"T_b73fe_row3_col8\" class=\"data row3 col8\" >1.638310</td>\n",
       "      <td id=\"T_b73fe_row3_col9\" class=\"data row3 col9\" >9.355500</td>\n",
       "      <td id=\"T_b73fe_row3_col10\" class=\"data row3 col10\" >138428495.000000</td>\n",
       "      <td id=\"T_b73fe_row3_col11\" class=\"data row3 col11\" >$16.18</td>\n",
       "      <td id=\"T_b73fe_row3_col12\" class=\"data row3 col12\" >$17.14</td>\n",
       "      <td id=\"T_b73fe_row3_col13\" class=\"data row3 col13\" >5.933250</td>\n",
       "      <td id=\"T_b73fe_row3_col14\" class=\"data row3 col14\" >5</td>\n",
       "      <td id=\"T_b73fe_row3_col15\" class=\"data row3 col15\" >0.185989</td>\n",
       "    </tr>\n",
       "    <tr>\n",
       "      <th id=\"T_b73fe_level0_row4\" class=\"row_heading level0 row4\" >4</th>\n",
       "      <td id=\"T_b73fe_row4_col0\" class=\"data row4 col0\" >1</td>\n",
       "      <td id=\"T_b73fe_row4_col1\" class=\"data row4 col1\" >AA</td>\n",
       "      <td id=\"T_b73fe_row4_col2\" class=\"data row4 col2\" >2/4/2011</td>\n",
       "      <td id=\"T_b73fe_row4_col3\" class=\"data row4 col3\" >$16.18</td>\n",
       "      <td id=\"T_b73fe_row4_col4\" class=\"data row4 col4\" >$17.39</td>\n",
       "      <td id=\"T_b73fe_row4_col5\" class=\"data row4 col5\" >$16.18</td>\n",
       "      <td id=\"T_b73fe_row4_col6\" class=\"data row4 col6\" >$17.14</td>\n",
       "      <td id=\"T_b73fe_row4_col7\" class=\"data row4 col7\" >154387761</td>\n",
       "      <td id=\"T_b73fe_row4_col8\" class=\"data row4 col8\" >5.933250</td>\n",
       "      <td id=\"T_b73fe_row4_col9\" class=\"data row4 col9\" >1.987452</td>\n",
       "      <td id=\"T_b73fe_row4_col10\" class=\"data row4 col10\" >151379173.000000</td>\n",
       "      <td id=\"T_b73fe_row4_col11\" class=\"data row4 col11\" >$17.33</td>\n",
       "      <td id=\"T_b73fe_row4_col12\" class=\"data row4 col12\" >$17.37</td>\n",
       "      <td id=\"T_b73fe_row4_col13\" class=\"data row4 col13\" >0.230814</td>\n",
       "      <td id=\"T_b73fe_row4_col14\" class=\"data row4 col14\" >97</td>\n",
       "      <td id=\"T_b73fe_row4_col15\" class=\"data row4 col15\" >0.175029</td>\n",
       "    </tr>\n",
       "  </tbody>\n",
       "</table>\n"
      ],
      "text/plain": [
       "<pandas.io.formats.style.Styler at 0x2c6dd0b5190>"
      ]
     },
     "metadata": {},
     "output_type": "display_data"
    }
   ],
   "source": [
    "data = pd.read_csv(\"data/dow_jones_index.data\")\n",
    "display(style_df(df=data.head(), caption=\"Raw data\"))"
   ]
  },
  {
   "cell_type": "markdown",
   "metadata": {},
   "source": [
    "### Understand, transform, create and drop data\n",
    "\n",
    "* **Column `quarter`:** \n",
    "\n",
    "    * It has the year quarter numbers (either $1$ or $2$) in the respective weeks;\n",
    "\n",
    "    * **The column is to be used as <ins>feature</ins>.**"
   ]
  },
  {
   "cell_type": "markdown",
   "metadata": {},
   "source": [
    "* **Column `stock`:**\n",
    "    * It has the acronyms that identify stock's company.\n",
    "\n",
    "    * **The column is to be used for company-wise data splitting (value \"MMM\" for company 3M, \"AXP\" for American Express, ...);**\n",
    "\n",
    "    * [***Note:*** since a model is to be created per company, the data needs to be split by company.]\n",
    "\n",
    "* **Column `date`:** \n",
    "\n",
    "    * It has the dates for the closing of the stock exchange in the respective weeks. **One should not directly use dates as features since they comprise a very large number of categories, whose some part may be \"seen\" during training but not during testing, inducing overfitting. For instance, by training with the data of the first quarter and testing with the data of the second, if the dates are used as features, the training cases would be supported but the testing ones not at all and extrapolation would occur.** However, if elements of the dates are seen in both batches (usually cyclic elements, such as the weekday, month, etc.) these could be used as features in place of the dates. In the current problem, the range of dates would not allow a proper usage of the common date cyclic elements. **Still, one could think of using an \"artificial\" cycling element, such as the ratio between the day number and the total number days of the month. For instance, the $8^{\\mathrm{th}}$ day of a 31 days month would be associated with a ratio $8/31 \\times 100 \\,\\%\\approx 25.8\\%$. Let `percent_month` be the resultant new column;**\n",
    "\n",
    "    * To use the date as a simpler data identifier, one could tranform it into year's week number. Let the new column be `week_num`;\n",
    "\n",
    "    * **New column `week_num` is to be used as <ins>data identifier (row index)</ins>.**\n",
    "\n",
    "    * **New column `percent_month` is to be used as <ins>feature</ins>.**"
   ]
  },
  {
   "cell_type": "code",
   "execution_count": 5,
   "metadata": {},
   "outputs": [],
   "source": [
    "# Tranform column \"date\" into pandas Timestamp\n",
    "data[\"date\"] = pd.to_datetime(data[\"date\"], format=\"%m/%d/%Y\")\n",
    "\n",
    "# Add column with percentage of the month associated with the dates\n",
    "data[\"percent_month\"] = data[\"date\"].dt.strftime(date_format=\"%m/%d/%Y\").apply(\n",
    "    lambda x: pd.Period(x).days_in_month\n",
    ")\n",
    "\n",
    "# Add column with year's week numbers associated with the dates\n",
    "data[\"week_num\"] = data[\"date\"].dt.isocalendar().week\n",
    "\n",
    "# Drop column \"date\"\n",
    "data = data.drop(columns=\"date\")"
   ]
  },
  {
   "cell_type": "markdown",
   "metadata": {},
   "source": [
    "* **Columns `open`, `high`, `low`, `close` and `percent_change_price`:**\n",
    "\n",
    "    * The first four have the value per share of the stocks at the opening, best day, worse day and closing of the market at that week, respectively. They are formatted as strings and prefixed by the american dollar \"$\\$$\". **To properly handle them, they should be converted to floats;**\n",
    "\n",
    "    * Also, since column `percent_change_price` (relative difference (in percentage) between closing and opening values) are simply obtained from  `open` and `close` one of the columns would be redundant;\n",
    "\n",
    "    * **Column `close` is to be dropped;**\n",
    "\n",
    "    * **Columns `open`, `high`, `low` and `percent_change_price` are to be used as <ins>features</ins>.**"
   ]
  },
  {
   "cell_type": "code",
   "execution_count": 6,
   "metadata": {},
   "outputs": [],
   "source": [
    "# Drop column \"next_weeks_close\"\n",
    "data = data.drop(columns=\"close\")\n",
    "\n",
    "# Re-format columns \"open\", \"high\" and \"low\", to disregard the dollar sign\n",
    "for col in [\"open\", \"high\", \"low\"]:\n",
    "    data[col] = data[col].apply(lambda x: float(x.removeprefix(\"$\")))"
   ]
  },
  {
   "cell_type": "markdown",
   "metadata": {},
   "source": [
    "* **Columns `volume`, `percent_change_volume_over_last_wk` and `previous_weeks_volume`:**\n",
    "\n",
    "    * Since `percent_change_volume_over_last_wk` (relative difference (in percentage) of exchanged volume of stock shares between current and previous week) are obtained from `previous_weeks_volume` and `volume`, one should disregard one of the columns. Arbitrarily, it was decided for `previous_weeks_volume` to be that one;\n",
    "\n",
    "    * Furthermore, since multiple previous weeks besides the current one are to be used as feature data for the prediction of the following week, one should disregard the columns `volume` of the previous weeks, since they may be computed from the column `volume` of the current week together with the columns `percent_change_volume_over_last_wk` of the current and previous weeks, making them redundant.\n",
    "\n",
    "    * **Column `previous_weeks_volume` is to be dropped;**\n",
    "\n",
    "    * **Column `percent_change_volume_over_last_wk` is to be used as <ins>feature</ins>.**\n",
    "\n",
    "    * **Column `volume` is to be used as <ins>feature of the current week</ins>;**"
   ]
  },
  {
   "cell_type": "code",
   "execution_count": null,
   "metadata": {},
   "outputs": [],
   "source": [
    "# Drop column \"next_weeks_close\"\n",
    "data = data.drop(columns=\"previous_weeks_volume\")"
   ]
  },
  {
   "cell_type": "markdown",
   "metadata": {},
   "source": [
    "* **Columns `next_weeks_open`, `next_weeks_close` and `percent_change_next_weeks_price`:**\n",
    "\n",
    "    * Since `percent_change_next_weeks_price` (relative difference (in percentage) between closing and opening stock values of the future week) are obtained from `next_weeks_open` and `next_weeks_close`, one of them should to be dropped;\n",
    "\n",
    "    * Also, since multiple previous weeks besides the current one are to be used as feature data for the prediction of the following week, one should disregard the columns `next_weeks_open` of the previous weeks, since they coincide with the columns `open` of the following contiguous ones making them redundant.\n",
    "\n",
    "    * Note that the values of the columns `next_weeks_open` and `next_weeks_close`are formatted as strings and prefixed by the american dollar \"$\\$$\". They should be re-formatted as floats.\n",
    "\n",
    "    * **Column `next_weeks_close` is to be dropped;**\n",
    "\n",
    "    * **Column `next_weeks_open` is to be used as <ins>feature of the current week</ins>;**\n",
    "\n",
    "    * **Column `percent_change_next_weeks_price` is to be used as <ins>target</ins>.**"
   ]
  },
  {
   "cell_type": "code",
   "execution_count": 9,
   "metadata": {},
   "outputs": [],
   "source": [
    "# Drop column \"next_weeks_close\"\n",
    "data = data.drop(columns=\"next_weeks_close\")\n",
    "\n",
    "# Re-format column \"next_weeks_open\" to disregard the dollar sign\n",
    "data[\"next_weeks_open\"] = data[\"next_weeks_open\"].apply(\n",
    "    lambda x: float(x.removeprefix(\"$\"))\n",
    ")"
   ]
  },
  {
   "cell_type": "markdown",
   "metadata": {},
   "source": [
    "* **Columns `days_to_next_dividend` and `percent_return_next_dividend`:**\n",
    "\n",
    "    *  The former is the number of days from current week to the day of the next dividend payment. The latter is the ratio (in percentage) between the value of the dividend payment per stock share and the value of that same stock share, based on the state of the current week;\n",
    "    \n",
    "    * **The columns are to be used as <ins>features</ins>.**"
   ]
  },
  {
   "cell_type": "code",
   "execution_count": 14,
   "metadata": {},
   "outputs": [
    {
     "data": {
      "text/html": [
       "<style type=\"text/css\">\n",
       "#T_733a7 caption {\n",
       "  width: 100%;\n",
       "  font-size: 16px;\n",
       "  font-weight: bold;\n",
       "  font-style: italic;\n",
       "  text-align: left;\n",
       "  padding-top: 15pt;\n",
       "  padding-bottom: 5pt;\n",
       "  padding-left: 15pt;\n",
       "}\n",
       "#T_733a7 td {\n",
       "  padding-bottom: 10pt;\n",
       "}\n",
       "</style>\n",
       "<table id=\"T_733a7\">\n",
       "  <caption>Raw data</caption>\n",
       "  <thead>\n",
       "    <tr>\n",
       "      <th class=\"blank level0\" >&nbsp;</th>\n",
       "      <th id=\"T_733a7_level0_col0\" class=\"col_heading level0 col0\" >stock</th>\n",
       "      <th id=\"T_733a7_level0_col1\" class=\"col_heading level0 col1\" >week_num</th>\n",
       "      <th id=\"T_733a7_level0_col2\" class=\"col_heading level0 col2\" >quarter</th>\n",
       "      <th id=\"T_733a7_level0_col3\" class=\"col_heading level0 col3\" >percent_month</th>\n",
       "      <th id=\"T_733a7_level0_col4\" class=\"col_heading level0 col4\" >open</th>\n",
       "      <th id=\"T_733a7_level0_col5\" class=\"col_heading level0 col5\" >high</th>\n",
       "      <th id=\"T_733a7_level0_col6\" class=\"col_heading level0 col6\" >low</th>\n",
       "      <th id=\"T_733a7_level0_col7\" class=\"col_heading level0 col7\" >percent_change_price</th>\n",
       "      <th id=\"T_733a7_level0_col8\" class=\"col_heading level0 col8\" >volume</th>\n",
       "      <th id=\"T_733a7_level0_col9\" class=\"col_heading level0 col9\" >percent_change_volume_over_last_wk</th>\n",
       "      <th id=\"T_733a7_level0_col10\" class=\"col_heading level0 col10\" >next_weeks_open</th>\n",
       "      <th id=\"T_733a7_level0_col11\" class=\"col_heading level0 col11\" >days_to_next_dividend</th>\n",
       "      <th id=\"T_733a7_level0_col12\" class=\"col_heading level0 col12\" >percent_return_next_dividend</th>\n",
       "      <th id=\"T_733a7_level0_col13\" class=\"col_heading level0 col13\" >percent_change_next_weeks_price</th>\n",
       "    </tr>\n",
       "  </thead>\n",
       "  <tbody>\n",
       "    <tr>\n",
       "      <th id=\"T_733a7_level0_row0\" class=\"row_heading level0 row0\" >0</th>\n",
       "      <td id=\"T_733a7_row0_col0\" class=\"data row0 col0\" >AA</td>\n",
       "      <td id=\"T_733a7_row0_col1\" class=\"data row0 col1\" >1</td>\n",
       "      <td id=\"T_733a7_row0_col2\" class=\"data row0 col2\" >1</td>\n",
       "      <td id=\"T_733a7_row0_col3\" class=\"data row0 col3\" >31</td>\n",
       "      <td id=\"T_733a7_row0_col4\" class=\"data row0 col4\" >15.820000</td>\n",
       "      <td id=\"T_733a7_row0_col5\" class=\"data row0 col5\" >16.720000</td>\n",
       "      <td id=\"T_733a7_row0_col6\" class=\"data row0 col6\" >15.780000</td>\n",
       "      <td id=\"T_733a7_row0_col7\" class=\"data row0 col7\" >3.792670</td>\n",
       "      <td id=\"T_733a7_row0_col8\" class=\"data row0 col8\" >239655616</td>\n",
       "      <td id=\"T_733a7_row0_col9\" class=\"data row0 col9\" >nan</td>\n",
       "      <td id=\"T_733a7_row0_col10\" class=\"data row0 col10\" >16.710000</td>\n",
       "      <td id=\"T_733a7_row0_col11\" class=\"data row0 col11\" >26</td>\n",
       "      <td id=\"T_733a7_row0_col12\" class=\"data row0 col12\" >0.182704</td>\n",
       "      <td id=\"T_733a7_row0_col13\" class=\"data row0 col13\" >-4.428490</td>\n",
       "    </tr>\n",
       "    <tr>\n",
       "      <th id=\"T_733a7_level0_row1\" class=\"row_heading level0 row1\" >1</th>\n",
       "      <td id=\"T_733a7_row1_col0\" class=\"data row1 col0\" >AA</td>\n",
       "      <td id=\"T_733a7_row1_col1\" class=\"data row1 col1\" >2</td>\n",
       "      <td id=\"T_733a7_row1_col2\" class=\"data row1 col2\" >1</td>\n",
       "      <td id=\"T_733a7_row1_col3\" class=\"data row1 col3\" >31</td>\n",
       "      <td id=\"T_733a7_row1_col4\" class=\"data row1 col4\" >16.710000</td>\n",
       "      <td id=\"T_733a7_row1_col5\" class=\"data row1 col5\" >16.710000</td>\n",
       "      <td id=\"T_733a7_row1_col6\" class=\"data row1 col6\" >15.640000</td>\n",
       "      <td id=\"T_733a7_row1_col7\" class=\"data row1 col7\" >-4.428490</td>\n",
       "      <td id=\"T_733a7_row1_col8\" class=\"data row1 col8\" >242963398</td>\n",
       "      <td id=\"T_733a7_row1_col9\" class=\"data row1 col9\" >1.380223</td>\n",
       "      <td id=\"T_733a7_row1_col10\" class=\"data row1 col10\" >16.190000</td>\n",
       "      <td id=\"T_733a7_row1_col11\" class=\"data row1 col11\" >19</td>\n",
       "      <td id=\"T_733a7_row1_col12\" class=\"data row1 col12\" >0.187852</td>\n",
       "      <td id=\"T_733a7_row1_col13\" class=\"data row1 col13\" >-2.470660</td>\n",
       "    </tr>\n",
       "    <tr>\n",
       "      <th id=\"T_733a7_level0_row2\" class=\"row_heading level0 row2\" >2</th>\n",
       "      <td id=\"T_733a7_row2_col0\" class=\"data row2 col0\" >AA</td>\n",
       "      <td id=\"T_733a7_row2_col1\" class=\"data row2 col1\" >3</td>\n",
       "      <td id=\"T_733a7_row2_col2\" class=\"data row2 col2\" >1</td>\n",
       "      <td id=\"T_733a7_row2_col3\" class=\"data row2 col3\" >31</td>\n",
       "      <td id=\"T_733a7_row2_col4\" class=\"data row2 col4\" >16.190000</td>\n",
       "      <td id=\"T_733a7_row2_col5\" class=\"data row2 col5\" >16.380000</td>\n",
       "      <td id=\"T_733a7_row2_col6\" class=\"data row2 col6\" >15.600000</td>\n",
       "      <td id=\"T_733a7_row2_col7\" class=\"data row2 col7\" >-2.470660</td>\n",
       "      <td id=\"T_733a7_row2_col8\" class=\"data row2 col8\" >138428495</td>\n",
       "      <td id=\"T_733a7_row2_col9\" class=\"data row2 col9\" >-43.024959</td>\n",
       "      <td id=\"T_733a7_row2_col10\" class=\"data row2 col10\" >15.870000</td>\n",
       "      <td id=\"T_733a7_row2_col11\" class=\"data row2 col11\" >12</td>\n",
       "      <td id=\"T_733a7_row2_col12\" class=\"data row2 col12\" >0.189994</td>\n",
       "      <td id=\"T_733a7_row2_col13\" class=\"data row2 col13\" >1.638310</td>\n",
       "    </tr>\n",
       "    <tr>\n",
       "      <th id=\"T_733a7_level0_row3\" class=\"row_heading level0 row3\" >3</th>\n",
       "      <td id=\"T_733a7_row3_col0\" class=\"data row3 col0\" >AA</td>\n",
       "      <td id=\"T_733a7_row3_col1\" class=\"data row3 col1\" >4</td>\n",
       "      <td id=\"T_733a7_row3_col2\" class=\"data row3 col2\" >1</td>\n",
       "      <td id=\"T_733a7_row3_col3\" class=\"data row3 col3\" >31</td>\n",
       "      <td id=\"T_733a7_row3_col4\" class=\"data row3 col4\" >15.870000</td>\n",
       "      <td id=\"T_733a7_row3_col5\" class=\"data row3 col5\" >16.630000</td>\n",
       "      <td id=\"T_733a7_row3_col6\" class=\"data row3 col6\" >15.820000</td>\n",
       "      <td id=\"T_733a7_row3_col7\" class=\"data row3 col7\" >1.638310</td>\n",
       "      <td id=\"T_733a7_row3_col8\" class=\"data row3 col8\" >151379173</td>\n",
       "      <td id=\"T_733a7_row3_col9\" class=\"data row3 col9\" >9.355500</td>\n",
       "      <td id=\"T_733a7_row3_col10\" class=\"data row3 col10\" >16.180000</td>\n",
       "      <td id=\"T_733a7_row3_col11\" class=\"data row3 col11\" >5</td>\n",
       "      <td id=\"T_733a7_row3_col12\" class=\"data row3 col12\" >0.185989</td>\n",
       "      <td id=\"T_733a7_row3_col13\" class=\"data row3 col13\" >5.933250</td>\n",
       "    </tr>\n",
       "    <tr>\n",
       "      <th id=\"T_733a7_level0_row4\" class=\"row_heading level0 row4\" >4</th>\n",
       "      <td id=\"T_733a7_row4_col0\" class=\"data row4 col0\" >AA</td>\n",
       "      <td id=\"T_733a7_row4_col1\" class=\"data row4 col1\" >5</td>\n",
       "      <td id=\"T_733a7_row4_col2\" class=\"data row4 col2\" >1</td>\n",
       "      <td id=\"T_733a7_row4_col3\" class=\"data row4 col3\" >28</td>\n",
       "      <td id=\"T_733a7_row4_col4\" class=\"data row4 col4\" >16.180000</td>\n",
       "      <td id=\"T_733a7_row4_col5\" class=\"data row4 col5\" >17.390000</td>\n",
       "      <td id=\"T_733a7_row4_col6\" class=\"data row4 col6\" >16.180000</td>\n",
       "      <td id=\"T_733a7_row4_col7\" class=\"data row4 col7\" >5.933250</td>\n",
       "      <td id=\"T_733a7_row4_col8\" class=\"data row4 col8\" >154387761</td>\n",
       "      <td id=\"T_733a7_row4_col9\" class=\"data row4 col9\" >1.987452</td>\n",
       "      <td id=\"T_733a7_row4_col10\" class=\"data row4 col10\" >17.330000</td>\n",
       "      <td id=\"T_733a7_row4_col11\" class=\"data row4 col11\" >97</td>\n",
       "      <td id=\"T_733a7_row4_col12\" class=\"data row4 col12\" >0.175029</td>\n",
       "      <td id=\"T_733a7_row4_col13\" class=\"data row4 col13\" >0.230814</td>\n",
       "    </tr>\n",
       "  </tbody>\n",
       "</table>\n"
      ],
      "text/plain": [
       "<pandas.io.formats.style.Styler at 0x2c6e00e6f10>"
      ]
     },
     "metadata": {},
     "output_type": "display_data"
    }
   ],
   "source": [
    "# ---> Display the new DataFrame\n",
    "# Reorder DataFrame's columns\n",
    "data = data[[\n",
    "    \"stock\", \"week_num\", \"quarter\", \"percent_month\", \"open\", \"high\", \"low\",\n",
    "    \"percent_change_price\",\t\"volume\", \"percent_change_volume_over_last_wk\",\n",
    "    \"next_weeks_open\", \"days_to_next_dividend\", \"percent_return_next_dividend\", \"percent_change_next_weeks_price\"]]\n",
    "\n",
    "display(style_df(df=data.head(), caption=\"Raw data\"))"
   ]
  },
  {
   "cell_type": "markdown",
   "metadata": {},
   "source": [
    "### Exploratory data analysis"
   ]
  },
  {
   "cell_type": "code",
   "execution_count": null,
   "metadata": {},
   "outputs": [],
   "source": [
    "\n",
    "# ---> Define cuatom histogram plotting function\n",
    "def hisplot_custom(\n",
    "    df,\n",
    "    col,\n",
    "    # Data type to which the column is to be transformed\n",
    "    col_dtype=float,\n",
    "    stat=\"count\",\n",
    "    bins=20,\n",
    "    shrink=1.0,\n",
    "    bar_label=True,\n",
    "    bar_label_rotation=0,\n",
    "    xticklabels_rotation=0,\n",
    "):\n",
    "    \n",
    "    # Initialise figure and axes\n",
    "    plt.figure(figsize=(9, 6))\n",
    "    ax = plt.axes()\n",
    "    plt.title(\n",
    "        \"Occurrence\" + \n",
    "        (\" fractions \" if stat == \"percent\" else \" counts \") +\n",
    "        \"per value\" +\n",
    "        (\" range \" if stat == \"percent\" else \" \") + f\"in column \\\"{col}\\\"\",\n",
    "        pad=20\n",
    "    )\n",
    "\n",
    "\n",
    "    # Define bar plot\n",
    "    sns.histplot(\n",
    "        ax=ax,\n",
    "        data=df.astype({col: col_dtype}),\n",
    "        x=col,\n",
    "        stat=stat,\n",
    "        bins=bins,\n",
    "        shrink=shrink,\n",
    "        edgecolor=\"black\",\n",
    "        alpha=1,\n",
    "        color=\"blue\",\n",
    "        linewidth=1.0,\n",
    "    )\n",
    "\n",
    "    if bar_label == True:\n",
    "        # Plot bars' values\n",
    "        for container in ax.containers:\n",
    "            ax.bar_label(\n",
    "                container=container,\n",
    "                padding=2,\n",
    "                fmt=r\"${:.2f}\\,\\%$\" if stat == \"percent\" else r\"${:.0f}$\",\n",
    "                size=9,\n",
    "                rotation=bar_label_rotation\n",
    "            )\n",
    "\n",
    "    # Define axes labels                                \n",
    "    ax.set_xlabel(col, fontdict={\"fontsize\": 10})\n",
    "    ax.set_ylabel(\n",
    "        r\"Fraction $[\\%]$\" if stat == \"percent\" else r\"Count\",\n",
    "        fontdict={\"fontsize\": 10}\n",
    "    )\n",
    "\n",
    "    # Define axes ticks\n",
    "    ax.tick_params(axis=\"x\", rotation=xticklabels_rotation)\n",
    "\n",
    "    # Define axes ranges\n",
    "    ax.set_ylim(top=1.1 * ax.get_ylim()[1])\n",
    "\n",
    "    # Enable axes' minor ticks\n",
    "    ax.minorticks_on()\n",
    "\n",
    "    # Define grid\n",
    "    ax.grid(\n",
    "        visible=True,\n",
    "        which=\"major\",\n",
    "        color=\"lightgray\",\n",
    "        linestyle=\"solid\",\n",
    "        linewidth=0.5\n",
    "    )\n",
    "    ax.grid(\n",
    "        visible=True,\n",
    "        which=\"minor\",\n",
    "        color=\"lightgray\",\n",
    "        linestyle=\"dotted\",\n",
    "        linewidth=0.5\n",
    "    )\n",
    "    \n",
    "    # Show plot\n",
    "    plt.show() "
   ]
  },
  {
   "cell_type": "code",
   "execution_count": null,
   "metadata": {},
   "outputs": [],
   "source": [
    "hisplot_custom(\n",
    "    df=data,\n",
    "    col=\"percent_change_volume_over_last_wk\",\n",
    "    stat=\"percent\",\n",
    "    bins=50,\n",
    "    bar_label_rotation=90\n",
    ")"
   ]
  },
  {
   "cell_type": "markdown",
   "metadata": {},
   "source": [
    "###  Handling missing values"
   ]
  },
  {
   "cell_type": "code",
   "execution_count": null,
   "metadata": {},
   "outputs": [],
   "source": [
    "# ---> Get missing value counts\n",
    "\n",
    "N_na = data.isna().sum()\n",
    "display(style_df(df=N_na.to_frame(name=\"N_na\"), caption=\"Counts of missing values per column\"))"
   ]
  },
  {
   "cell_type": "markdown",
   "metadata": {},
   "source": [
    "Solely column `percent_change_volume_over_last_wk` has missing values, and, coincidently, of number $30$, which is also the number of companies regarded by the Dow Jones index. One may already suspect that such missing values are associated with the first week, as this one might not have volume data associated with the past.\n",
    "\n",
    "Let one display the unique dates associated with the missing values to assert this suspicion."
   ]
  },
  {
   "cell_type": "code",
   "execution_count": null,
   "metadata": {},
   "outputs": [],
   "source": [
    "# ---> Get dates associated with the missing values\n",
    "\n",
    "na_date_unique = data[data.isna().any(axis=1)][\"date\"].unique()\n",
    "display(style_df(\n",
    "    pd.DataFrame({\"date\": [na_date_unique]}),\n",
    "    caption=\"Unique dates associated with the missing values\"\n",
    "))\n"
   ]
  },
  {
   "cell_type": "markdown",
   "metadata": {},
   "source": [
    "All of the dates associated with the missing values correspond to the first week of the first quarter, as suspected. Assuming that the values of the column `percent_change_volume_over_last_wk` do not drastically change in time, it would be reasonable to fill the missing values with the ones of the respective companies at the following week.  "
   ]
  },
  {
   "cell_type": "code",
   "execution_count": null,
   "metadata": {},
   "outputs": [],
   "source": []
  },
  {
   "cell_type": "markdown",
   "metadata": {},
   "source": [
    "### Prepare the data ........"
   ]
  },
  {
   "cell_type": "markdown",
   "metadata": {},
   "source": [
    "## Modelling\n",
    "In this phase, your main goal is to develop and describe your approach to the solution of the problem. Some guidelines to help you:\n",
    "* What metrics will you use to evaluate your solutions?\n",
    "* What are some algorithms that can lead to good results? And why?\n",
    "* Describe in detail your thought process during the development of your solution.\n",
    "* Present your results.\n",
    "\n",
    "\n",
    "-----\n"
   ]
  },
  {
   "cell_type": "code",
   "execution_count": null,
   "metadata": {},
   "outputs": [],
   "source": [
    "#add here your modelling code"
   ]
  },
  {
   "cell_type": "markdown",
   "metadata": {},
   "source": [
    "-----\n",
    "*Add here your modelling results and conclusions (max. 200 words)*\n",
    "\n",
    "-----"
   ]
  },
  {
   "cell_type": "markdown",
   "metadata": {},
   "source": [
    "## Conclusions\n",
    "In the conclusions, you should enumerate the results you got after completing the challenge.\n",
    "* How good do you consider your results? \n",
    "* What are some factors that would contribute to get better results?\n",
    "* What are some advantages and disadvantages of your solution?\n",
    "* What can be done as future work to improve your results?\n"
   ]
  },
  {
   "cell_type": "markdown",
   "metadata": {},
   "source": [
    "-----\n",
    "*Add here your final conclusions (max. 400 words)*\n",
    "\n",
    "-----"
   ]
  },
  {
   "cell_type": "markdown",
   "metadata": {},
   "source": [
    "#### Feedback"
   ]
  },
  {
   "cell_type": "markdown",
   "metadata": {},
   "source": [
    "-----\n",
    "*Add here your thoughts and feedback regarding this challenge.*\n",
    "\n",
    "-----"
   ]
  },
  {
   "cell_type": "markdown",
   "metadata": {},
   "source": [
    "To submit your solution you should e-mail us this notebook in response to the e-mail you initially received with the challenge."
   ]
  }
 ],
 "metadata": {
  "kernelspec": {
   "display_name": "Python 3",
   "language": "python",
   "name": "python3"
  },
  "language_info": {
   "codemirror_mode": {
    "name": "ipython",
    "version": 3
   },
   "file_extension": ".py",
   "mimetype": "text/x-python",
   "name": "python",
   "nbconvert_exporter": "python",
   "pygments_lexer": "ipython3",
   "version": "3.11.4"
  }
 },
 "nbformat": 4,
 "nbformat_minor": 4
}
